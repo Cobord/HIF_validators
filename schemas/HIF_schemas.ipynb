{
 "cells": [
  {
   "cell_type": "code",
   "execution_count": 2,
   "id": "1e2a1770-c38a-40f1-88d9-9c84348ceee4",
   "metadata": {
    "execution": {
     "iopub.execute_input": "2024-08-13T20:47:06.953606Z",
     "iopub.status.busy": "2024-08-13T20:47:06.952981Z",
     "iopub.status.idle": "2024-08-13T20:47:33.888417Z",
     "shell.execute_reply": "2024-08-13T20:47:33.887353Z",
     "shell.execute_reply.started": "2024-08-13T20:47:06.953579Z"
    }
   },
   "outputs": [],
   "source": [
    "import json\n",
    "import random\n",
    "import warnings\n",
    "\n",
    "import fastjsonschema\n",
    "import hypernetx as hnx\n",
    "import numpy as np\n",
    "import pandas as pd"
   ]
  },
  {
   "cell_type": "code",
   "execution_count": 3,
   "id": "b085c415-c2fa-4883-b940-7c32d416abc6",
   "metadata": {
    "execution": {
     "iopub.execute_input": "2024-08-13T20:47:33.890851Z",
     "iopub.status.busy": "2024-08-13T20:47:33.890279Z",
     "iopub.status.idle": "2024-08-13T20:47:33.904685Z",
     "shell.execute_reply": "2024-08-13T20:47:33.903716Z",
     "shell.execute_reply.started": "2024-08-13T20:47:33.890823Z"
    }
   },
   "outputs": [],
   "source": [
    "warnings.simplefilter(\"ignore\")"
   ]
  },
  {
   "cell_type": "markdown",
   "id": "922a93a1-93aa-4bf6-a1ee-73eda24ddbb3",
   "metadata": {},
   "source": [
    "## Create a hypergraph with data"
   ]
  },
  {
   "cell_type": "code",
   "execution_count": 4,
   "id": "ca0a809a-2baa-4d7a-9b44-e41c3c24579c",
   "metadata": {
    "execution": {
     "iopub.execute_input": "2024-08-13T20:47:33.905904Z",
     "iopub.status.busy": "2024-08-13T20:47:33.905684Z",
     "iopub.status.idle": "2024-08-13T20:47:34.334115Z",
     "shell.execute_reply": "2024-08-13T20:47:34.333855Z",
     "shell.execute_reply.started": "2024-08-13T20:47:33.905880Z"
    }
   },
   "outputs": [
    {
     "data": {
      "text/html": [
       "<div>\n",
       "<style scoped>\n",
       "    .dataframe tbody tr th:only-of-type {\n",
       "        vertical-align: middle;\n",
       "    }\n",
       "\n",
       "    .dataframe tbody tr th {\n",
       "        vertical-align: top;\n",
       "    }\n",
       "\n",
       "    .dataframe thead th {\n",
       "        text-align: right;\n",
       "    }\n",
       "</style>\n",
       "<table border=\"1\" class=\"dataframe\">\n",
       "  <thead>\n",
       "    <tr style=\"text-align: right;\">\n",
       "      <th></th>\n",
       "      <th>Volume</th>\n",
       "      <th>Book</th>\n",
       "      <th>Chapter</th>\n",
       "      <th>Scene</th>\n",
       "      <th>Step</th>\n",
       "      <th>Characters</th>\n",
       "      <th>edges</th>\n",
       "      <th>nodes</th>\n",
       "    </tr>\n",
       "  </thead>\n",
       "  <tbody>\n",
       "    <tr>\n",
       "      <th>0</th>\n",
       "      <td>1</td>\n",
       "      <td>1</td>\n",
       "      <td>1</td>\n",
       "      <td>0</td>\n",
       "      <td>0</td>\n",
       "      <td>MY</td>\n",
       "      <td>1.1.1.0</td>\n",
       "      <td>MY</td>\n",
       "    </tr>\n",
       "    <tr>\n",
       "      <th>1</th>\n",
       "      <td>1</td>\n",
       "      <td>1</td>\n",
       "      <td>1</td>\n",
       "      <td>0</td>\n",
       "      <td>0</td>\n",
       "      <td>NP</td>\n",
       "      <td>1.1.1.0</td>\n",
       "      <td>NP</td>\n",
       "    </tr>\n",
       "    <tr>\n",
       "      <th>2</th>\n",
       "      <td>1</td>\n",
       "      <td>1</td>\n",
       "      <td>1</td>\n",
       "      <td>1</td>\n",
       "      <td>1</td>\n",
       "      <td>MY</td>\n",
       "      <td>1.1.1.1</td>\n",
       "      <td>MY</td>\n",
       "    </tr>\n",
       "    <tr>\n",
       "      <th>3</th>\n",
       "      <td>1</td>\n",
       "      <td>1</td>\n",
       "      <td>1</td>\n",
       "      <td>1</td>\n",
       "      <td>1</td>\n",
       "      <td>MB</td>\n",
       "      <td>1.1.1.1</td>\n",
       "      <td>MB</td>\n",
       "    </tr>\n",
       "    <tr>\n",
       "      <th>4</th>\n",
       "      <td>1</td>\n",
       "      <td>1</td>\n",
       "      <td>2</td>\n",
       "      <td>0</td>\n",
       "      <td>2</td>\n",
       "      <td>MY</td>\n",
       "      <td>1.1.2.0</td>\n",
       "      <td>MY</td>\n",
       "    </tr>\n",
       "    <tr>\n",
       "      <th>...</th>\n",
       "      <td>...</td>\n",
       "      <td>...</td>\n",
       "      <td>...</td>\n",
       "      <td>...</td>\n",
       "      <td>...</td>\n",
       "      <td>...</td>\n",
       "      <td>...</td>\n",
       "      <td>...</td>\n",
       "    </tr>\n",
       "    <tr>\n",
       "      <th>857</th>\n",
       "      <td>5</td>\n",
       "      <td>9</td>\n",
       "      <td>4</td>\n",
       "      <td>1</td>\n",
       "      <td>400</td>\n",
       "      <td>MA</td>\n",
       "      <td>5.9.4.1</td>\n",
       "      <td>MA</td>\n",
       "    </tr>\n",
       "    <tr>\n",
       "      <th>858</th>\n",
       "      <td>5</td>\n",
       "      <td>9</td>\n",
       "      <td>4</td>\n",
       "      <td>1</td>\n",
       "      <td>400</td>\n",
       "      <td>CO</td>\n",
       "      <td>5.9.4.1</td>\n",
       "      <td>CO</td>\n",
       "    </tr>\n",
       "    <tr>\n",
       "      <th>859</th>\n",
       "      <td>5</td>\n",
       "      <td>9</td>\n",
       "      <td>5</td>\n",
       "      <td>0</td>\n",
       "      <td>401</td>\n",
       "      <td>JV</td>\n",
       "      <td>5.9.5.0</td>\n",
       "      <td>JV</td>\n",
       "    </tr>\n",
       "    <tr>\n",
       "      <th>860</th>\n",
       "      <td>5</td>\n",
       "      <td>9</td>\n",
       "      <td>5</td>\n",
       "      <td>0</td>\n",
       "      <td>401</td>\n",
       "      <td>CO</td>\n",
       "      <td>5.9.5.0</td>\n",
       "      <td>CO</td>\n",
       "    </tr>\n",
       "    <tr>\n",
       "      <th>861</th>\n",
       "      <td>5</td>\n",
       "      <td>9</td>\n",
       "      <td>5</td>\n",
       "      <td>0</td>\n",
       "      <td>401</td>\n",
       "      <td>MA</td>\n",
       "      <td>5.9.5.0</td>\n",
       "      <td>MA</td>\n",
       "    </tr>\n",
       "  </tbody>\n",
       "</table>\n",
       "<p>862 rows × 8 columns</p>\n",
       "</div>"
      ],
      "text/plain": [
       "     Volume  Book  Chapter  Scene  Step Characters    edges nodes\n",
       "0         1     1        1      0     0         MY  1.1.1.0    MY\n",
       "1         1     1        1      0     0         NP  1.1.1.0    NP\n",
       "2         1     1        1      1     1         MY  1.1.1.1    MY\n",
       "3         1     1        1      1     1         MB  1.1.1.1    MB\n",
       "4         1     1        2      0     2         MY  1.1.2.0    MY\n",
       "..      ...   ...      ...    ...   ...        ...      ...   ...\n",
       "857       5     9        4      1   400         MA  5.9.4.1    MA\n",
       "858       5     9        4      1   400         CO  5.9.4.1    CO\n",
       "859       5     9        5      0   401         JV  5.9.5.0    JV\n",
       "860       5     9        5      0   401         CO  5.9.5.0    CO\n",
       "861       5     9        5      0   401         MA  5.9.5.0    MA\n",
       "\n",
       "[862 rows x 8 columns]"
      ]
     },
     "execution_count": 4,
     "metadata": {},
     "output_type": "execute_result"
    }
   ],
   "source": [
    "from hypernetx.utils import toys\n",
    "\n",
    "lesmis = toys.LesMis()\n",
    "names = lesmis.df_names\n",
    "scenes = lesmis.df_scenes\n",
    "scenes[\"edges\"] = [\n",
    "    \".\".join([str(scenes.loc[idx][col]) for col in scenes.columns[:-2]])\n",
    "    for idx in scenes.index\n",
    "]\n",
    "scenes[\"nodes\"] = scenes[\"Characters\"]\n",
    "scenes"
   ]
  },
  {
   "cell_type": "code",
   "execution_count": 5,
   "id": "eb6cd713-17bc-4302-8d6a-727b62184ec2",
   "metadata": {
    "execution": {
     "iopub.execute_input": "2024-08-13T20:47:34.335110Z",
     "iopub.status.busy": "2024-08-13T20:47:34.335022Z",
     "iopub.status.idle": "2024-08-13T20:47:34.343546Z",
     "shell.execute_reply": "2024-08-13T20:47:34.343308Z",
     "shell.execute_reply.started": "2024-08-13T20:47:34.335101Z"
    }
   },
   "outputs": [
    {
     "data": {
      "text/html": [
       "<div>\n",
       "<style scoped>\n",
       "    .dataframe tbody tr th:only-of-type {\n",
       "        vertical-align: middle;\n",
       "    }\n",
       "\n",
       "    .dataframe tbody tr th {\n",
       "        vertical-align: top;\n",
       "    }\n",
       "\n",
       "    .dataframe thead th {\n",
       "        text-align: right;\n",
       "    }\n",
       "</style>\n",
       "<table border=\"1\" class=\"dataframe\">\n",
       "  <thead>\n",
       "    <tr style=\"text-align: right;\">\n",
       "      <th></th>\n",
       "      <th>edges</th>\n",
       "      <th>nodes</th>\n",
       "      <th>weights</th>\n",
       "    </tr>\n",
       "  </thead>\n",
       "  <tbody>\n",
       "    <tr>\n",
       "      <th>0</th>\n",
       "      <td>1.1.1.0</td>\n",
       "      <td>MY</td>\n",
       "      <td>0.50</td>\n",
       "    </tr>\n",
       "    <tr>\n",
       "      <th>1</th>\n",
       "      <td>1.1.1.0</td>\n",
       "      <td>NP</td>\n",
       "      <td>0.50</td>\n",
       "    </tr>\n",
       "    <tr>\n",
       "      <th>2</th>\n",
       "      <td>1.1.1.1</td>\n",
       "      <td>MY</td>\n",
       "      <td>0.50</td>\n",
       "    </tr>\n",
       "    <tr>\n",
       "      <th>3</th>\n",
       "      <td>1.1.1.1</td>\n",
       "      <td>MB</td>\n",
       "      <td>0.50</td>\n",
       "    </tr>\n",
       "    <tr>\n",
       "      <th>4</th>\n",
       "      <td>1.1.2.0</td>\n",
       "      <td>MY</td>\n",
       "      <td>0.50</td>\n",
       "    </tr>\n",
       "    <tr>\n",
       "      <th>...</th>\n",
       "      <td>...</td>\n",
       "      <td>...</td>\n",
       "      <td>...</td>\n",
       "    </tr>\n",
       "    <tr>\n",
       "      <th>857</th>\n",
       "      <td>5.9.4.1</td>\n",
       "      <td>MA</td>\n",
       "      <td>0.50</td>\n",
       "    </tr>\n",
       "    <tr>\n",
       "      <th>858</th>\n",
       "      <td>5.9.4.1</td>\n",
       "      <td>CO</td>\n",
       "      <td>0.50</td>\n",
       "    </tr>\n",
       "    <tr>\n",
       "      <th>859</th>\n",
       "      <td>5.9.5.0</td>\n",
       "      <td>JV</td>\n",
       "      <td>0.33</td>\n",
       "    </tr>\n",
       "    <tr>\n",
       "      <th>860</th>\n",
       "      <td>5.9.5.0</td>\n",
       "      <td>CO</td>\n",
       "      <td>0.33</td>\n",
       "    </tr>\n",
       "    <tr>\n",
       "      <th>861</th>\n",
       "      <td>5.9.5.0</td>\n",
       "      <td>MA</td>\n",
       "      <td>0.33</td>\n",
       "    </tr>\n",
       "  </tbody>\n",
       "</table>\n",
       "<p>862 rows × 3 columns</p>\n",
       "</div>"
      ],
      "text/plain": [
       "       edges nodes  weights\n",
       "0    1.1.1.0    MY     0.50\n",
       "1    1.1.1.0    NP     0.50\n",
       "2    1.1.1.1    MY     0.50\n",
       "3    1.1.1.1    MB     0.50\n",
       "4    1.1.2.0    MY     0.50\n",
       "..       ...   ...      ...\n",
       "857  5.9.4.1    MA     0.50\n",
       "858  5.9.4.1    CO     0.50\n",
       "859  5.9.5.0    JV     0.33\n",
       "860  5.9.5.0    CO     0.33\n",
       "861  5.9.5.0    MA     0.33\n",
       "\n",
       "[862 rows x 3 columns]"
      ]
     },
     "execution_count": 5,
     "metadata": {},
     "output_type": "execute_result"
    }
   ],
   "source": [
    "df = scenes[[\"edges\", \"nodes\"]]\n",
    "cell_weights = df.groupby([\"edges\"]).count().to_dict()[\"nodes\"]\n",
    "df[\"weights\"] = df.edges.map(lambda e: np.round(1 / cell_weights.get(e, 1), 2))\n",
    "df"
   ]
  },
  {
   "cell_type": "code",
   "execution_count": 6,
   "id": "be6af3b7-0eac-4a5a-9bfd-4f29cd4eb12f",
   "metadata": {
    "execution": {
     "iopub.execute_input": "2024-08-13T20:47:34.343971Z",
     "iopub.status.busy": "2024-08-13T20:47:34.343890Z",
     "iopub.status.idle": "2024-08-13T20:47:34.361104Z",
     "shell.execute_reply": "2024-08-13T20:47:34.360704Z",
     "shell.execute_reply.started": "2024-08-13T20:47:34.343962Z"
    }
   },
   "outputs": [
    {
     "data": {
      "text/html": [
       "<div>\n",
       "<style scoped>\n",
       "    .dataframe tbody tr th:only-of-type {\n",
       "        vertical-align: middle;\n",
       "    }\n",
       "\n",
       "    .dataframe tbody tr th {\n",
       "        vertical-align: top;\n",
       "    }\n",
       "\n",
       "    .dataframe thead th {\n",
       "        text-align: right;\n",
       "    }\n",
       "</style>\n",
       "<table border=\"1\" class=\"dataframe\">\n",
       "  <thead>\n",
       "    <tr style=\"text-align: right;\">\n",
       "      <th></th>\n",
       "      <th>Symbol</th>\n",
       "      <th>FullName</th>\n",
       "      <th>Description</th>\n",
       "      <th>weights</th>\n",
       "    </tr>\n",
       "  </thead>\n",
       "  <tbody>\n",
       "    <tr>\n",
       "      <th>0</th>\n",
       "      <td>AZ</td>\n",
       "      <td>Anzelma</td>\n",
       "      <td>daughter of TH and TM</td>\n",
       "      <td>0.67</td>\n",
       "    </tr>\n",
       "    <tr>\n",
       "      <th>1</th>\n",
       "      <td>BA</td>\n",
       "      <td>Bahorel</td>\n",
       "      <td>`Friends of the ABC' cutup</td>\n",
       "      <td>0.85</td>\n",
       "    </tr>\n",
       "    <tr>\n",
       "      <th>2</th>\n",
       "      <td>BB</td>\n",
       "      <td>Babet</td>\n",
       "      <td>tooth-pulling bandit of Paris</td>\n",
       "      <td>0.99</td>\n",
       "    </tr>\n",
       "    <tr>\n",
       "      <th>3</th>\n",
       "      <td>BJ</td>\n",
       "      <td>Brujon</td>\n",
       "      <td>notorious criminal</td>\n",
       "      <td>0.02</td>\n",
       "    </tr>\n",
       "    <tr>\n",
       "      <th>4</th>\n",
       "      <td>BL</td>\n",
       "      <td>Blacheville</td>\n",
       "      <td>Parisian student from Montauban</td>\n",
       "      <td>0.69</td>\n",
       "    </tr>\n",
       "    <tr>\n",
       "      <th>...</th>\n",
       "      <td>...</td>\n",
       "      <td>...</td>\n",
       "      <td>...</td>\n",
       "      <td>...</td>\n",
       "    </tr>\n",
       "    <tr>\n",
       "      <th>75</th>\n",
       "      <td>TS</td>\n",
       "      <td>Toussaint</td>\n",
       "      <td>servant of JV at Rue Plumet</td>\n",
       "      <td>0.29</td>\n",
       "    </tr>\n",
       "    <tr>\n",
       "      <th>76</th>\n",
       "      <td>VI</td>\n",
       "      <td>Madame Victurnien</td>\n",
       "      <td>snoop in M-- sur M--</td>\n",
       "      <td>0.55</td>\n",
       "    </tr>\n",
       "    <tr>\n",
       "      <th>77</th>\n",
       "      <td>XA</td>\n",
       "      <td>Child 1</td>\n",
       "      <td>son of TH sold to MN</td>\n",
       "      <td>0.32</td>\n",
       "    </tr>\n",
       "    <tr>\n",
       "      <th>78</th>\n",
       "      <td>XB</td>\n",
       "      <td>Child 2</td>\n",
       "      <td>son of TH sold to MN</td>\n",
       "      <td>0.80</td>\n",
       "    </tr>\n",
       "    <tr>\n",
       "      <th>79</th>\n",
       "      <td>ZE</td>\n",
       "      <td>Zephine</td>\n",
       "      <td>lover of FA</td>\n",
       "      <td>0.74</td>\n",
       "    </tr>\n",
       "  </tbody>\n",
       "</table>\n",
       "<p>80 rows × 4 columns</p>\n",
       "</div>"
      ],
      "text/plain": [
       "   Symbol           FullName                       Description  weights\n",
       "0      AZ            Anzelma             daughter of TH and TM     0.67\n",
       "1      BA            Bahorel        `Friends of the ABC' cutup     0.85\n",
       "2      BB              Babet     tooth-pulling bandit of Paris     0.99\n",
       "3      BJ             Brujon                notorious criminal     0.02\n",
       "4      BL        Blacheville   Parisian student from Montauban     0.69\n",
       "..    ...                ...                               ...      ...\n",
       "75     TS          Toussaint       servant of JV at Rue Plumet     0.29\n",
       "76     VI  Madame Victurnien              snoop in M-- sur M--     0.55\n",
       "77     XA            Child 1              son of TH sold to MN     0.32\n",
       "78     XB            Child 2              son of TH sold to MN     0.80\n",
       "79     ZE            Zephine                       lover of FA     0.74\n",
       "\n",
       "[80 rows x 4 columns]"
      ]
     },
     "execution_count": 6,
     "metadata": {},
     "output_type": "execute_result"
    }
   ],
   "source": [
    "nprops = names\n",
    "nprops[\"weights\"] = np.round(np.random.uniform(0, 1, len(names)), 2)\n",
    "nprops"
   ]
  },
  {
   "cell_type": "code",
   "execution_count": 7,
   "id": "28f6518f-3926-411b-a043-1351ec98ebd2",
   "metadata": {
    "execution": {
     "iopub.execute_input": "2024-08-13T20:47:34.361776Z",
     "iopub.status.busy": "2024-08-13T20:47:34.361630Z",
     "iopub.status.idle": "2024-08-13T20:47:34.382571Z",
     "shell.execute_reply": "2024-08-13T20:47:34.382127Z",
     "shell.execute_reply.started": "2024-08-13T20:47:34.361766Z"
    }
   },
   "outputs": [
    {
     "data": {
      "text/html": [
       "<div>\n",
       "<style scoped>\n",
       "    .dataframe tbody tr th:only-of-type {\n",
       "        vertical-align: middle;\n",
       "    }\n",
       "\n",
       "    .dataframe tbody tr th {\n",
       "        vertical-align: top;\n",
       "    }\n",
       "\n",
       "    .dataframe thead th {\n",
       "        text-align: right;\n",
       "    }\n",
       "</style>\n",
       "<table border=\"1\" class=\"dataframe\">\n",
       "  <thead>\n",
       "    <tr style=\"text-align: right;\">\n",
       "      <th></th>\n",
       "      <th>edges</th>\n",
       "      <th>nodes</th>\n",
       "      <th>weight</th>\n",
       "      <th>misc_properties</th>\n",
       "    </tr>\n",
       "  </thead>\n",
       "  <tbody>\n",
       "    <tr>\n",
       "      <th>0</th>\n",
       "      <td>1.1.1.0</td>\n",
       "      <td>MY</td>\n",
       "      <td>0.50</td>\n",
       "      <td>{}</td>\n",
       "    </tr>\n",
       "    <tr>\n",
       "      <th>1</th>\n",
       "      <td>1.1.1.0</td>\n",
       "      <td>NP</td>\n",
       "      <td>0.50</td>\n",
       "      <td>{}</td>\n",
       "    </tr>\n",
       "    <tr>\n",
       "      <th>2</th>\n",
       "      <td>1.1.1.1</td>\n",
       "      <td>MY</td>\n",
       "      <td>0.50</td>\n",
       "      <td>{}</td>\n",
       "    </tr>\n",
       "    <tr>\n",
       "      <th>3</th>\n",
       "      <td>1.1.1.1</td>\n",
       "      <td>MB</td>\n",
       "      <td>0.50</td>\n",
       "      <td>{}</td>\n",
       "    </tr>\n",
       "    <tr>\n",
       "      <th>4</th>\n",
       "      <td>1.1.2.0</td>\n",
       "      <td>MY</td>\n",
       "      <td>0.50</td>\n",
       "      <td>{}</td>\n",
       "    </tr>\n",
       "    <tr>\n",
       "      <th>...</th>\n",
       "      <td>...</td>\n",
       "      <td>...</td>\n",
       "      <td>...</td>\n",
       "      <td>...</td>\n",
       "    </tr>\n",
       "    <tr>\n",
       "      <th>857</th>\n",
       "      <td>5.9.4.1</td>\n",
       "      <td>MA</td>\n",
       "      <td>0.50</td>\n",
       "      <td>{}</td>\n",
       "    </tr>\n",
       "    <tr>\n",
       "      <th>858</th>\n",
       "      <td>5.9.4.1</td>\n",
       "      <td>CO</td>\n",
       "      <td>0.50</td>\n",
       "      <td>{}</td>\n",
       "    </tr>\n",
       "    <tr>\n",
       "      <th>859</th>\n",
       "      <td>5.9.5.0</td>\n",
       "      <td>JV</td>\n",
       "      <td>0.33</td>\n",
       "      <td>{}</td>\n",
       "    </tr>\n",
       "    <tr>\n",
       "      <th>860</th>\n",
       "      <td>5.9.5.0</td>\n",
       "      <td>CO</td>\n",
       "      <td>0.33</td>\n",
       "      <td>{}</td>\n",
       "    </tr>\n",
       "    <tr>\n",
       "      <th>861</th>\n",
       "      <td>5.9.5.0</td>\n",
       "      <td>MA</td>\n",
       "      <td>0.33</td>\n",
       "      <td>{}</td>\n",
       "    </tr>\n",
       "  </tbody>\n",
       "</table>\n",
       "<p>862 rows × 4 columns</p>\n",
       "</div>"
      ],
      "text/plain": [
       "       edges nodes  weight misc_properties\n",
       "0    1.1.1.0    MY    0.50              {}\n",
       "1    1.1.1.0    NP    0.50              {}\n",
       "2    1.1.1.1    MY    0.50              {}\n",
       "3    1.1.1.1    MB    0.50              {}\n",
       "4    1.1.2.0    MY    0.50              {}\n",
       "..       ...   ...     ...             ...\n",
       "857  5.9.4.1    MA    0.50              {}\n",
       "858  5.9.4.1    CO    0.50              {}\n",
       "859  5.9.5.0    JV    0.33              {}\n",
       "860  5.9.5.0    CO    0.33              {}\n",
       "861  5.9.5.0    MA    0.33              {}\n",
       "\n",
       "[862 rows x 4 columns]"
      ]
     },
     "execution_count": 7,
     "metadata": {},
     "output_type": "execute_result"
    }
   ],
   "source": [
    "lm = hnx.Hypergraph(\n",
    "    df,\n",
    "    cell_weight_col=\"weights\",\n",
    "    node_properties=nprops,\n",
    "    node_weight_prop_col=\"weights\",\n",
    ")\n",
    "lm.dataframe"
   ]
  },
  {
   "cell_type": "code",
   "execution_count": 8,
   "id": "8ba68da5-0b17-426f-b30f-4f73c6800740",
   "metadata": {
    "execution": {
     "iopub.execute_input": "2024-08-13T20:47:34.383470Z",
     "iopub.status.busy": "2024-08-13T20:47:34.383314Z",
     "iopub.status.idle": "2024-08-13T20:47:34.389061Z",
     "shell.execute_reply": "2024-08-13T20:47:34.388622Z",
     "shell.execute_reply.started": "2024-08-13T20:47:34.383457Z"
    }
   },
   "outputs": [
    {
     "data": {
      "text/html": [
       "<div>\n",
       "<style scoped>\n",
       "    .dataframe tbody tr th:only-of-type {\n",
       "        vertical-align: middle;\n",
       "    }\n",
       "\n",
       "    .dataframe tbody tr th {\n",
       "        vertical-align: top;\n",
       "    }\n",
       "\n",
       "    .dataframe thead th {\n",
       "        text-align: right;\n",
       "    }\n",
       "</style>\n",
       "<table border=\"1\" class=\"dataframe\">\n",
       "  <thead>\n",
       "    <tr style=\"text-align: right;\">\n",
       "      <th></th>\n",
       "      <th>weight</th>\n",
       "      <th>FullName</th>\n",
       "      <th>Description</th>\n",
       "      <th>misc_properties</th>\n",
       "    </tr>\n",
       "    <tr>\n",
       "      <th>uid</th>\n",
       "      <th></th>\n",
       "      <th></th>\n",
       "      <th></th>\n",
       "      <th></th>\n",
       "    </tr>\n",
       "  </thead>\n",
       "  <tbody>\n",
       "    <tr>\n",
       "      <th>MY</th>\n",
       "      <td>0.08</td>\n",
       "      <td>Monsieur Charles Fran\\c{c}ois Bienvenu Myriel</td>\n",
       "      <td>Bishop of D--</td>\n",
       "      <td>{}</td>\n",
       "    </tr>\n",
       "    <tr>\n",
       "      <th>NP</th>\n",
       "      <td>0.44</td>\n",
       "      <td>Napoleon</td>\n",
       "      <td>Emperor of France</td>\n",
       "      <td>{}</td>\n",
       "    </tr>\n",
       "    <tr>\n",
       "      <th>MB</th>\n",
       "      <td>0.01</td>\n",
       "      <td>Mademoiselle Baptistine</td>\n",
       "      <td>sister of MY</td>\n",
       "      <td>{}</td>\n",
       "    </tr>\n",
       "    <tr>\n",
       "      <th>ME</th>\n",
       "      <td>0.06</td>\n",
       "      <td>Madame Magloire</td>\n",
       "      <td>housekeeper to MY</td>\n",
       "      <td>{}</td>\n",
       "    </tr>\n",
       "    <tr>\n",
       "      <th>CL</th>\n",
       "      <td>0.81</td>\n",
       "      <td>Countess de Lô</td>\n",
       "      <td>distant relative of MY</td>\n",
       "      <td>{}</td>\n",
       "    </tr>\n",
       "    <tr>\n",
       "      <th>...</th>\n",
       "      <td>...</td>\n",
       "      <td>...</td>\n",
       "      <td>...</td>\n",
       "      <td>...</td>\n",
       "    </tr>\n",
       "    <tr>\n",
       "      <th>XA</th>\n",
       "      <td>0.32</td>\n",
       "      <td>Child 1</td>\n",
       "      <td>son of TH sold to MN</td>\n",
       "      <td>{}</td>\n",
       "    </tr>\n",
       "    <tr>\n",
       "      <th>XB</th>\n",
       "      <td>0.80</td>\n",
       "      <td>Child 2</td>\n",
       "      <td>son of TH sold to MN</td>\n",
       "      <td>{}</td>\n",
       "    </tr>\n",
       "    <tr>\n",
       "      <th>BJ</th>\n",
       "      <td>0.02</td>\n",
       "      <td>Brujon</td>\n",
       "      <td>notorious criminal</td>\n",
       "      <td>{}</td>\n",
       "    </tr>\n",
       "    <tr>\n",
       "      <th>HL</th>\n",
       "      <td>0.40</td>\n",
       "      <td>Madame Hucheloup</td>\n",
       "      <td>keeper of Corinth Inn</td>\n",
       "      <td>{}</td>\n",
       "    </tr>\n",
       "    <tr>\n",
       "      <th>BS</th>\n",
       "      <td>0.83</td>\n",
       "      <td>Bruneseau</td>\n",
       "      <td>explorer and mapper of the sewers of Paris</td>\n",
       "      <td>{}</td>\n",
       "    </tr>\n",
       "  </tbody>\n",
       "</table>\n",
       "<p>80 rows × 4 columns</p>\n",
       "</div>"
      ],
      "text/plain": [
       "     weight                                       FullName   \n",
       "uid                                                          \n",
       "MY     0.08  Monsieur Charles Fran\\c{c}ois Bienvenu Myriel  \\\n",
       "NP     0.44                                       Napoleon   \n",
       "MB     0.01                        Mademoiselle Baptistine   \n",
       "ME     0.06                                Madame Magloire   \n",
       "CL     0.81                                 Countess de Lô   \n",
       "..      ...                                            ...   \n",
       "XA     0.32                                        Child 1   \n",
       "XB     0.80                                        Child 2   \n",
       "BJ     0.02                                         Brujon   \n",
       "HL     0.40                               Madame Hucheloup   \n",
       "BS     0.83                                      Bruneseau   \n",
       "\n",
       "                                     Description misc_properties  \n",
       "uid                                                               \n",
       "MY                                 Bishop of D--              {}  \n",
       "NP                             Emperor of France              {}  \n",
       "MB                                  sister of MY              {}  \n",
       "ME                             housekeeper to MY              {}  \n",
       "CL                        distant relative of MY              {}  \n",
       "..                                           ...             ...  \n",
       "XA                          son of TH sold to MN              {}  \n",
       "XB                          son of TH sold to MN              {}  \n",
       "BJ                            notorious criminal              {}  \n",
       "HL                         keeper of Corinth Inn              {}  \n",
       "BS    explorer and mapper of the sewers of Paris              {}  \n",
       "\n",
       "[80 rows x 4 columns]"
      ]
     },
     "execution_count": 8,
     "metadata": {},
     "output_type": "execute_result"
    }
   ],
   "source": [
    "lm.nodes.dataframe"
   ]
  },
  {
   "cell_type": "markdown",
   "id": "2ba6f018-ae32-4541-bee4-d3813b7f4730",
   "metadata": {},
   "source": [
    "## Load schema and create validator"
   ]
  },
  {
   "cell_type": "code",
   "execution_count": 9,
   "id": "237b1b5b-5578-4898-9777-73e954a63d70",
   "metadata": {
    "execution": {
     "iopub.execute_input": "2024-08-13T20:47:34.389705Z",
     "iopub.status.busy": "2024-08-13T20:47:34.389553Z",
     "iopub.status.idle": "2024-08-13T20:47:34.428715Z",
     "shell.execute_reply": "2024-08-13T20:47:34.428163Z",
     "shell.execute_reply.started": "2024-08-13T20:47:34.389693Z"
    }
   },
   "outputs": [
    {
     "data": {
      "text/plain": [
       "{'$schema': 'http://json-schema.org/draft-07/schema#',\n",
       " '$id': 'https://raw.githubusercontent.com/pszufe/HIF_validators/main/schemas/hif_schema_v0.1.0.json',\n",
       " 'title': 'Schema for Hypergraph Interchange Format - HIF',\n",
       " 'type': 'object',\n",
       " 'properties': {'network-type': {'enum': ['undirected', 'directed', 'asc']},\n",
       "  'metadata': {'type': 'object'},\n",
       "  'incidences': {'type': 'array',\n",
       "   'items': {'type': 'object',\n",
       "    'properties': {'edge': {'type': ['string', 'integer']},\n",
       "     'node': {'type': ['string', 'integer']},\n",
       "     'weight': {'type': 'number'},\n",
       "     'direction': {'enum': ['head', 'tail']},\n",
       "     'attr': {'type': 'object'},\n",
       "     'unevaluatedProperties': False},\n",
       "    'required': ['edge', 'node']}},\n",
       "  'nodes': {'type': 'array',\n",
       "   'items': {'type': 'object',\n",
       "    'properties': {'node': {'type': ['string', 'integer']},\n",
       "     'weight': {'type': 'number'},\n",
       "     'attr': {'type': 'object'},\n",
       "     'unevaluatedProperties': False},\n",
       "    'required': ['node']}},\n",
       "  'edges': {'type': 'array',\n",
       "   'items': {'type': 'object',\n",
       "    'properties': {'edge': {'type': ['string', 'integer']},\n",
       "     'weight': {'type': 'number'},\n",
       "     'attr': {'type': 'object'},\n",
       "     'unevaluatedProperties': False},\n",
       "    'required': ['edge']}},\n",
       "  'unevaluatedProperties': False},\n",
       " 'required': ['incidences']}"
      ]
     },
     "execution_count": 9,
     "metadata": {},
     "output_type": "execute_result"
    }
   ],
   "source": [
    "schema = json.load(open(\"hif_schema_v0.1.0.json\",\"r\"))\n",
    "schema"
   ]
  },
  {
   "cell_type": "code",
   "execution_count": 10,
   "id": "d9f3d1c8-fb35-4fb4-b70b-b9c3a401ce00",
   "metadata": {
    "execution": {
     "iopub.execute_input": "2024-08-13T20:47:34.429469Z",
     "iopub.status.busy": "2024-08-13T20:47:34.429335Z",
     "iopub.status.idle": "2024-08-13T20:47:34.434694Z",
     "shell.execute_reply": "2024-08-13T20:47:34.434282Z",
     "shell.execute_reply.started": "2024-08-13T20:47:34.429458Z"
    }
   },
   "outputs": [],
   "source": [
    "validator = fastjsonschema.compile(schema);"
   ]
  },
  {
   "cell_type": "markdown",
   "id": "60b6eb43-0e60-4044-b615-1e1c1efad41f",
   "metadata": {},
   "source": [
    "## HNX translators"
   ]
  },
  {
   "cell_type": "code",
   "execution_count": 11,
   "id": "67b49e3e-ca3a-4bab-91ec-d683e9700340",
   "metadata": {
    "execution": {
     "iopub.execute_input": "2024-08-13T20:47:34.436616Z",
     "iopub.status.busy": "2024-08-13T20:47:34.436479Z",
     "iopub.status.idle": "2024-08-13T20:47:34.439730Z",
     "shell.execute_reply": "2024-08-13T20:47:34.439335Z",
     "shell.execute_reply.started": "2024-08-13T20:47:34.436605Z"
    }
   },
   "outputs": [],
   "source": [
    "def to_hif(hg):\n",
    "    edgj = hg.edges.to_dataframe\n",
    "    edid = edgj.index._name or \"index\"\n",
    "    nodj = hg.nodes.to_dataframe\n",
    "    ndid = nodj.index._name or \"index\"\n",
    "    edgj = edgj.reset_index().rename(columns={edid: \"edge\"}).to_dict(orient=\"records\")\n",
    "    nodj = nodj.reset_index().rename(columns={ndid: \"node\"}).to_dict(orient=\"records\")\n",
    "    incj = (\n",
    "        hg.incidences.to_dataframe.reset_index()\n",
    "        .rename(columns={\"nodes\": \"node\", \"edges\": \"edge\"})\n",
    "        .to_dict(orient=\"records\")\n",
    "    )\n",
    "    hif = {\"edges\": edgj, \"nodes\": nodj, \"incidences\": incj}\n",
    "    return hif\n",
    "\n",
    "\n",
    "def from_hif(hif):\n",
    "    edges = pd.DataFrame(hif[\"edges\"])\n",
    "    nodes = pd.DataFrame(hif[\"nodes\"])\n",
    "    incidences = pd.DataFrame(hif[\"incidences\"])\n",
    "    return hnx.Hypergraph(incidences, node_properties=nodes, edge_properties=edges)"
   ]
  },
  {
   "cell_type": "code",
   "execution_count": 18,
   "id": "92d95a42-0d82-4377-a16d-e47dbb4d081d",
   "metadata": {
    "execution": {
     "iopub.execute_input": "2024-08-13T20:48:22.907146Z",
     "iopub.status.busy": "2024-08-13T20:48:22.906549Z",
     "iopub.status.idle": "2024-08-13T20:48:22.946870Z",
     "shell.execute_reply": "2024-08-13T20:48:22.946496Z",
     "shell.execute_reply.started": "2024-08-13T20:48:22.907117Z"
    }
   },
   "outputs": [],
   "source": [
    "# %%timeit #5.55 ms ± 101 µs per loop (mean ± std. dev. of 7 runs, 100 loops each)\n",
    "hif = to_hif(lm)\n",
    "json.dump(hif,open(\"../examples/lesmis_hif.json\",\"w\"),allow_nan=False)"
   ]
  },
  {
   "cell_type": "code",
   "execution_count": 19,
   "id": "3d02213b-3f14-4610-9d64-2474b1a0ae36",
   "metadata": {
    "execution": {
     "iopub.execute_input": "2024-08-13T20:48:23.417911Z",
     "iopub.status.busy": "2024-08-13T20:48:23.417341Z",
     "iopub.status.idle": "2024-08-13T20:48:23.431280Z",
     "shell.execute_reply": "2024-08-13T20:48:23.430224Z",
     "shell.execute_reply.started": "2024-08-13T20:48:23.417882Z"
    }
   },
   "outputs": [],
   "source": [
    "# %%timeit #742 µs ± 2.52 µs per loop (mean ± std. dev. of 7 runs, 1,000 loops each)\n",
    "try:\n",
    "    validator(hif);\n",
    "except Exception as e:\n",
    "    print(e)"
   ]
  },
  {
   "cell_type": "markdown",
   "id": "a08aca51-8e46-49c2-8f7d-cfb05a03ed5b",
   "metadata": {},
   "source": [
    "## Simple Testing"
   ]
  },
  {
   "cell_type": "code",
   "execution_count": 20,
   "id": "5bc81969-7121-477f-9b74-dea75793d2b2",
   "metadata": {
    "execution": {
     "iopub.execute_input": "2024-08-13T20:48:23.811656Z",
     "iopub.status.busy": "2024-08-13T20:48:23.811299Z",
     "iopub.status.idle": "2024-08-13T20:48:23.865652Z",
     "shell.execute_reply": "2024-08-13T20:48:23.864111Z",
     "shell.execute_reply.started": "2024-08-13T20:48:23.811633Z"
    }
   },
   "outputs": [
    {
     "name": "stdout",
     "output_type": "stream",
     "text": [
      "data.network-type must be one of ['undirected', 'directed', 'asc']\n"
     ]
    },
    {
     "ename": "JsonSchemaValueException",
     "evalue": "data.network-type must be one of ['undirected', 'directed', 'asc']",
     "output_type": "error",
     "traceback": [
      "\u001b[0;31m---------------------------------------------------------------------------\u001b[0m",
      "\u001b[0;31mJsonSchemaValueException\u001b[0m                  Traceback (most recent call last)",
      "Cell \u001b[0;32mIn[20], line 8\u001b[0m\n\u001b[1;32m      6\u001b[0m \u001b[38;5;28;01mexcept\u001b[39;00m \u001b[38;5;167;01mException\u001b[39;00m \u001b[38;5;28;01mas\u001b[39;00m e:\n\u001b[1;32m      7\u001b[0m     \u001b[38;5;28mprint\u001b[39m(e)\n\u001b[0;32m----> 8\u001b[0m \u001b[43mvalidator\u001b[49m\u001b[43m(\u001b[49m\u001b[43mhiftest\u001b[49m\u001b[43m)\u001b[49m;\n",
      "File \u001b[0;32m<string>:16\u001b[0m, in \u001b[0;36mvalidate_https___raw_githubusercontent_com_pszufe_hif_validators_main_schemas_hif_schema_v0_1_0_json\u001b[0;34m(data, custom_formats, name_prefix)\u001b[0m\n",
      "\u001b[0;31mJsonSchemaValueException\u001b[0m: data.network-type must be one of ['undirected', 'directed', 'asc']"
     ]
    }
   ],
   "source": [
    "\n",
    "from copy import deepcopy\n",
    "hiftest = deepcopy(hif)\n",
    "hiftest['network-type'] = \"ordered\"\n",
    "try:\n",
    "    validator(hiftest);\n",
    "except Exception as e:\n",
    "    print(e)\n",
    "validator(hiftest);"
   ]
  },
  {
   "cell_type": "code",
   "execution_count": 21,
   "id": "a32db09d-d89f-4d00-847c-a358273063dc",
   "metadata": {
    "execution": {
     "iopub.execute_input": "2024-08-13T20:48:24.017489Z",
     "iopub.status.busy": "2024-08-13T20:48:24.017100Z",
     "iopub.status.idle": "2024-08-13T20:48:24.054376Z",
     "shell.execute_reply": "2024-08-13T20:48:24.054023Z",
     "shell.execute_reply.started": "2024-08-13T20:48:24.017466Z"
    }
   },
   "outputs": [],
   "source": [
    "# %%timeit #9.99 ms ± 219 µs per loop (mean ± std. dev. of 7 runs, 100 loops each)\n",
    "h = from_hif(hif)"
   ]
  },
  {
   "cell_type": "code",
   "execution_count": 22,
   "id": "abab89a1-f96e-4bf7-b09d-56b738a021c9",
   "metadata": {
    "execution": {
     "iopub.execute_input": "2024-08-13T20:48:24.219987Z",
     "iopub.status.busy": "2024-08-13T20:48:24.219637Z",
     "iopub.status.idle": "2024-08-13T20:48:24.249694Z",
     "shell.execute_reply": "2024-08-13T20:48:24.249212Z",
     "shell.execute_reply.started": "2024-08-13T20:48:24.219965Z"
    }
   },
   "outputs": [
    {
     "data": {
      "text/html": [
       "<div>\n",
       "<style scoped>\n",
       "    .dataframe tbody tr th:only-of-type {\n",
       "        vertical-align: middle;\n",
       "    }\n",
       "\n",
       "    .dataframe tbody tr th {\n",
       "        vertical-align: top;\n",
       "    }\n",
       "\n",
       "    .dataframe thead th {\n",
       "        text-align: right;\n",
       "    }\n",
       "</style>\n",
       "<table border=\"1\" class=\"dataframe\">\n",
       "  <thead>\n",
       "    <tr style=\"text-align: right;\">\n",
       "      <th></th>\n",
       "      <th>edges</th>\n",
       "      <th>nodes</th>\n",
       "      <th>weight</th>\n",
       "      <th>misc_properties</th>\n",
       "    </tr>\n",
       "  </thead>\n",
       "  <tbody>\n",
       "    <tr>\n",
       "      <th>0</th>\n",
       "      <td>1.1.1.0</td>\n",
       "      <td>MY</td>\n",
       "      <td>0.5</td>\n",
       "      <td>{}</td>\n",
       "    </tr>\n",
       "    <tr>\n",
       "      <th>1</th>\n",
       "      <td>1.1.1.0</td>\n",
       "      <td>NP</td>\n",
       "      <td>0.5</td>\n",
       "      <td>{}</td>\n",
       "    </tr>\n",
       "    <tr>\n",
       "      <th>2</th>\n",
       "      <td>1.1.1.1</td>\n",
       "      <td>MY</td>\n",
       "      <td>0.5</td>\n",
       "      <td>{}</td>\n",
       "    </tr>\n",
       "    <tr>\n",
       "      <th>3</th>\n",
       "      <td>1.1.1.1</td>\n",
       "      <td>MB</td>\n",
       "      <td>0.5</td>\n",
       "      <td>{}</td>\n",
       "    </tr>\n",
       "    <tr>\n",
       "      <th>4</th>\n",
       "      <td>1.1.2.0</td>\n",
       "      <td>MY</td>\n",
       "      <td>0.5</td>\n",
       "      <td>{}</td>\n",
       "    </tr>\n",
       "  </tbody>\n",
       "</table>\n",
       "</div>"
      ],
      "text/plain": [
       "     edges nodes  weight misc_properties\n",
       "0  1.1.1.0    MY     0.5              {}\n",
       "1  1.1.1.0    NP     0.5              {}\n",
       "2  1.1.1.1    MY     0.5              {}\n",
       "3  1.1.1.1    MB     0.5              {}\n",
       "4  1.1.2.0    MY     0.5              {}"
      ]
     },
     "execution_count": 22,
     "metadata": {},
     "output_type": "execute_result"
    }
   ],
   "source": [
    "h.dataframe[:5]"
   ]
  },
  {
   "cell_type": "markdown",
   "id": "96eb741b-fd6c-4ae8-b5ad-ae4ff4689548",
   "metadata": {},
   "source": [
    "## Hypergraph Examples"
   ]
  },
  {
   "cell_type": "markdown",
   "id": "d323e722-c0d8-4153-8059-da1535d7f63b",
   "metadata": {
    "execution": {
     "iopub.execute_input": "2024-08-05T23:42:12.703439Z",
     "iopub.status.busy": "2024-08-05T23:42:12.702557Z",
     "iopub.status.idle": "2024-08-05T23:42:12.706773Z",
     "shell.execute_reply": "2024-08-05T23:42:12.706110Z",
     "shell.execute_reply.started": "2024-08-05T23:42:12.703415Z"
    }
   },
   "source": [
    "### contacts-high-school"
   ]
  },
  {
   "cell_type": "code",
   "execution_count": 23,
   "id": "c38f5920-47b6-40e3-9e25-7f58975df574",
   "metadata": {
    "execution": {
     "iopub.execute_input": "2024-08-13T20:48:25.486434Z",
     "iopub.status.busy": "2024-08-13T20:48:25.486094Z",
     "iopub.status.idle": "2024-08-13T20:48:25.758261Z",
     "shell.execute_reply": "2024-08-13T20:48:25.757999Z",
     "shell.execute_reply.started": "2024-08-13T20:48:25.486409Z"
    }
   },
   "outputs": [],
   "source": [
    "hs = json.load(open(f\"../examples/contacts-high-school.json\", \"r\"))"
   ]
  },
  {
   "cell_type": "code",
   "execution_count": 24,
   "id": "1a660f35-a8c9-4916-b742-69b3038e9f41",
   "metadata": {
    "execution": {
     "iopub.execute_input": "2024-08-13T20:48:25.759017Z",
     "iopub.status.busy": "2024-08-13T20:48:25.758930Z",
     "iopub.status.idle": "2024-08-13T20:48:25.762228Z",
     "shell.execute_reply": "2024-08-13T20:48:25.761921Z",
     "shell.execute_reply.started": "2024-08-13T20:48:25.759008Z"
    }
   },
   "outputs": [
    {
     "data": {
      "text/plain": [
       "dict_keys(['nodes', 'hyperedges'])"
      ]
     },
     "execution_count": 24,
     "metadata": {},
     "output_type": "execute_result"
    }
   ],
   "source": [
    "hs.keys()"
   ]
  },
  {
   "cell_type": "code",
   "execution_count": 25,
   "id": "8fce5598-c192-4ad2-a4a7-ba09967d8285",
   "metadata": {
    "execution": {
     "iopub.execute_input": "2024-08-13T20:48:25.921515Z",
     "iopub.status.busy": "2024-08-13T20:48:25.921145Z",
     "iopub.status.idle": "2024-08-13T20:48:25.925999Z",
     "shell.execute_reply": "2024-08-13T20:48:25.925475Z",
     "shell.execute_reply.started": "2024-08-13T20:48:25.921474Z"
    }
   },
   "outputs": [
    {
     "data": {
      "text/plain": [
       "[{'interaction': [454, 640], 'time': 1385982020},\n",
       " {'interaction': [1, 939], 'time': 1385982020},\n",
       " {'interaction': [185, 258], 'time': 1385982020},\n",
       " {'interaction': [9, 45], 'time': 1385982020},\n",
       " {'interaction': [9, 453], 'time': 1385982020}]"
      ]
     },
     "execution_count": 25,
     "metadata": {},
     "output_type": "execute_result"
    }
   ],
   "source": [
    "hs[\"hyperedges\"][:5]"
   ]
  },
  {
   "cell_type": "code",
   "execution_count": 26,
   "id": "26abab48-2080-4fb6-b192-66ff7b6c7609",
   "metadata": {
    "execution": {
     "iopub.execute_input": "2024-08-13T20:48:26.149627Z",
     "iopub.status.busy": "2024-08-13T20:48:26.148867Z",
     "iopub.status.idle": "2024-08-13T20:48:26.157310Z",
     "shell.execute_reply": "2024-08-13T20:48:26.156598Z",
     "shell.execute_reply.started": "2024-08-13T20:48:26.149601Z"
    },
    "scrolled": true
   },
   "outputs": [
    {
     "data": {
      "text/plain": [
       "[{'class': 'MP',\n",
       "  'id': 454,\n",
       "  'has_facebook': True,\n",
       "  'has_compiled_questionnaire': False,\n",
       "  'facebook_friends': [34, 151, 156, 159, 866, 640, 1232],\n",
       "  'sex': 'F'},\n",
       " {'class': 'MP',\n",
       "  'id': 640,\n",
       "  'has_facebook': True,\n",
       "  'has_compiled_questionnaire': False,\n",
       "  'facebook_friends': [151, 159, 454],\n",
       "  'sex': 'M'}]"
      ]
     },
     "execution_count": 26,
     "metadata": {},
     "output_type": "execute_result"
    }
   ],
   "source": [
    "hs[\"nodes\"][:2]"
   ]
  },
  {
   "cell_type": "code",
   "execution_count": 37,
   "id": "d6f30c77-dadd-4ab5-9a9a-bad8daa537c0",
   "metadata": {
    "execution": {
     "iopub.execute_input": "2024-08-13T20:50:59.862906Z",
     "iopub.status.busy": "2024-08-13T20:50:59.862563Z",
     "iopub.status.idle": "2024-08-13T20:51:00.162459Z",
     "shell.execute_reply": "2024-08-13T20:51:00.162174Z",
     "shell.execute_reply.started": "2024-08-13T20:50:59.862881Z"
    }
   },
   "outputs": [],
   "source": [
    "df = pd.DataFrame(hs[\"hyperedges\"]).fillna(\"\")\n",
    "df[\"edge\"] = df.interaction.map(lambda x: x[0])\n",
    "df[\"node\"] = df.interaction.map(lambda x: x[1])\n",
    "df = df[[\"edge\", \"node\", \"time\"]]\n",
    "\n",
    "nodedf = pd.DataFrame(hs[\"nodes\"])\n",
    "nodedf = nodedf.set_index(\"id\").reset_index().fillna(\"\")\n",
    "\n",
    "hshyp = hnx.Hypergraph(df, node_properties=nodedf)"
   ]
  },
  {
   "cell_type": "code",
   "execution_count": 38,
   "id": "cc1b1334-ee10-4dcd-9d66-924c8688ba66",
   "metadata": {
    "execution": {
     "iopub.execute_input": "2024-08-13T20:51:00.945692Z",
     "iopub.status.busy": "2024-08-13T20:51:00.944430Z",
     "iopub.status.idle": "2024-08-13T20:51:00.981174Z",
     "shell.execute_reply": "2024-08-13T20:51:00.980802Z",
     "shell.execute_reply.started": "2024-08-13T20:51:00.945637Z"
    }
   },
   "outputs": [
    {
     "data": {
      "text/html": [
       "<div>\n",
       "<style scoped>\n",
       "    .dataframe tbody tr th:only-of-type {\n",
       "        vertical-align: middle;\n",
       "    }\n",
       "\n",
       "    .dataframe tbody tr th {\n",
       "        vertical-align: top;\n",
       "    }\n",
       "\n",
       "    .dataframe thead th {\n",
       "        text-align: right;\n",
       "    }\n",
       "</style>\n",
       "<table border=\"1\" class=\"dataframe\">\n",
       "  <thead>\n",
       "    <tr style=\"text-align: right;\">\n",
       "      <th></th>\n",
       "      <th>edges</th>\n",
       "      <th>nodes</th>\n",
       "      <th>weight</th>\n",
       "      <th>time</th>\n",
       "      <th>misc_properties</th>\n",
       "    </tr>\n",
       "  </thead>\n",
       "  <tbody>\n",
       "    <tr>\n",
       "      <th>0</th>\n",
       "      <td>454</td>\n",
       "      <td>640</td>\n",
       "      <td>1</td>\n",
       "      <td>1385982020</td>\n",
       "      <td>{}</td>\n",
       "    </tr>\n",
       "    <tr>\n",
       "      <th>1</th>\n",
       "      <td>1</td>\n",
       "      <td>939</td>\n",
       "      <td>1</td>\n",
       "      <td>1385982020</td>\n",
       "      <td>{}</td>\n",
       "    </tr>\n",
       "    <tr>\n",
       "      <th>2</th>\n",
       "      <td>185</td>\n",
       "      <td>258</td>\n",
       "      <td>1</td>\n",
       "      <td>1385982020</td>\n",
       "      <td>{}</td>\n",
       "    </tr>\n",
       "    <tr>\n",
       "      <th>3</th>\n",
       "      <td>9</td>\n",
       "      <td>45</td>\n",
       "      <td>1</td>\n",
       "      <td>1385982020</td>\n",
       "      <td>{}</td>\n",
       "    </tr>\n",
       "    <tr>\n",
       "      <th>4</th>\n",
       "      <td>9</td>\n",
       "      <td>453</td>\n",
       "      <td>1</td>\n",
       "      <td>1385982020</td>\n",
       "      <td>{}</td>\n",
       "    </tr>\n",
       "    <tr>\n",
       "      <th>...</th>\n",
       "      <td>...</td>\n",
       "      <td>...</td>\n",
       "      <td>...</td>\n",
       "      <td>...</td>\n",
       "      <td>...</td>\n",
       "    </tr>\n",
       "    <tr>\n",
       "      <th>5584</th>\n",
       "      <td>232</td>\n",
       "      <td>311</td>\n",
       "      <td>1</td>\n",
       "      <td>1386343520</td>\n",
       "      <td>{}</td>\n",
       "    </tr>\n",
       "    <tr>\n",
       "      <th>5585</th>\n",
       "      <td>46</td>\n",
       "      <td>306</td>\n",
       "      <td>1</td>\n",
       "      <td>1386343520</td>\n",
       "      <td>{}</td>\n",
       "    </tr>\n",
       "    <tr>\n",
       "      <th>5586</th>\n",
       "      <td>306</td>\n",
       "      <td>471</td>\n",
       "      <td>1</td>\n",
       "      <td>1386343540</td>\n",
       "      <td>{}</td>\n",
       "    </tr>\n",
       "    <tr>\n",
       "      <th>5587</th>\n",
       "      <td>836</td>\n",
       "      <td>1339</td>\n",
       "      <td>1</td>\n",
       "      <td>1386343740</td>\n",
       "      <td>{}</td>\n",
       "    </tr>\n",
       "    <tr>\n",
       "      <th>5588</th>\n",
       "      <td>9</td>\n",
       "      <td>120</td>\n",
       "      <td>1</td>\n",
       "      <td>1386345260</td>\n",
       "      <td>{}</td>\n",
       "    </tr>\n",
       "  </tbody>\n",
       "</table>\n",
       "<p>5589 rows × 5 columns</p>\n",
       "</div>"
      ],
      "text/plain": [
       "      edges  nodes  weight        time misc_properties\n",
       "0       454    640       1  1385982020              {}\n",
       "1         1    939       1  1385982020              {}\n",
       "2       185    258       1  1385982020              {}\n",
       "3         9     45       1  1385982020              {}\n",
       "4         9    453       1  1385982020              {}\n",
       "...     ...    ...     ...         ...             ...\n",
       "5584    232    311       1  1386343520              {}\n",
       "5585     46    306       1  1386343520              {}\n",
       "5586    306    471       1  1386343540              {}\n",
       "5587    836   1339       1  1386343740              {}\n",
       "5588      9    120       1  1386345260              {}\n",
       "\n",
       "[5589 rows x 5 columns]"
      ]
     },
     "execution_count": 38,
     "metadata": {},
     "output_type": "execute_result"
    }
   ],
   "source": [
    "hshyp.dataframe"
   ]
  },
  {
   "cell_type": "code",
   "execution_count": 39,
   "id": "c128fc46-9834-4d84-9be9-e168640357df",
   "metadata": {
    "execution": {
     "iopub.execute_input": "2024-08-13T20:51:02.097048Z",
     "iopub.status.busy": "2024-08-13T20:51:02.096449Z",
     "iopub.status.idle": "2024-08-13T20:51:02.125852Z",
     "shell.execute_reply": "2024-08-13T20:51:02.125371Z",
     "shell.execute_reply.started": "2024-08-13T20:51:02.097010Z"
    }
   },
   "outputs": [
    {
     "data": {
      "text/html": [
       "<div>\n",
       "<style scoped>\n",
       "    .dataframe tbody tr th:only-of-type {\n",
       "        vertical-align: middle;\n",
       "    }\n",
       "\n",
       "    .dataframe tbody tr th {\n",
       "        vertical-align: top;\n",
       "    }\n",
       "\n",
       "    .dataframe thead th {\n",
       "        text-align: right;\n",
       "    }\n",
       "</style>\n",
       "<table border=\"1\" class=\"dataframe\">\n",
       "  <thead>\n",
       "    <tr style=\"text-align: right;\">\n",
       "      <th></th>\n",
       "      <th>weight</th>\n",
       "      <th>class</th>\n",
       "      <th>has_facebook</th>\n",
       "      <th>has_compiled_questionnaire</th>\n",
       "      <th>facebook_friends</th>\n",
       "      <th>sex</th>\n",
       "      <th>questionnaire_friends</th>\n",
       "      <th>misc_properties</th>\n",
       "    </tr>\n",
       "    <tr>\n",
       "      <th>uid</th>\n",
       "      <th></th>\n",
       "      <th></th>\n",
       "      <th></th>\n",
       "      <th></th>\n",
       "      <th></th>\n",
       "      <th></th>\n",
       "      <th></th>\n",
       "      <th></th>\n",
       "    </tr>\n",
       "  </thead>\n",
       "  <tbody>\n",
       "    <tr>\n",
       "      <th>640</th>\n",
       "      <td>1</td>\n",
       "      <td>MP</td>\n",
       "      <td>True</td>\n",
       "      <td>False</td>\n",
       "      <td>[151, 159, 454]</td>\n",
       "      <td>M</td>\n",
       "      <td></td>\n",
       "      <td>{}</td>\n",
       "    </tr>\n",
       "    <tr>\n",
       "      <th>939</th>\n",
       "      <td>1</td>\n",
       "      <td>2BIO3</td>\n",
       "      <td>True</td>\n",
       "      <td>False</td>\n",
       "      <td>[1, 55, 101, 106, 117, 119, 122, 132, 156, 170...</td>\n",
       "      <td>M</td>\n",
       "      <td></td>\n",
       "      <td>{}</td>\n",
       "    </tr>\n",
       "    <tr>\n",
       "      <th>258</th>\n",
       "      <td>1</td>\n",
       "      <td>PC*</td>\n",
       "      <td>False</td>\n",
       "      <td>False</td>\n",
       "      <td></td>\n",
       "      <td>F</td>\n",
       "      <td></td>\n",
       "      <td>{}</td>\n",
       "    </tr>\n",
       "    <tr>\n",
       "      <th>45</th>\n",
       "      <td>1</td>\n",
       "      <td>PC</td>\n",
       "      <td>False</td>\n",
       "      <td>True</td>\n",
       "      <td></td>\n",
       "      <td>F</td>\n",
       "      <td>[79, 335, 496, 601, 674, 765]</td>\n",
       "      <td>{}</td>\n",
       "    </tr>\n",
       "    <tr>\n",
       "      <th>453</th>\n",
       "      <td>1</td>\n",
       "      <td>PC</td>\n",
       "      <td>False</td>\n",
       "      <td>False</td>\n",
       "      <td></td>\n",
       "      <td>M</td>\n",
       "      <td></td>\n",
       "      <td>{}</td>\n",
       "    </tr>\n",
       "    <tr>\n",
       "      <th>...</th>\n",
       "      <td>...</td>\n",
       "      <td>...</td>\n",
       "      <td>...</td>\n",
       "      <td>...</td>\n",
       "      <td>...</td>\n",
       "      <td>...</td>\n",
       "      <td>...</td>\n",
       "      <td>...</td>\n",
       "    </tr>\n",
       "    <tr>\n",
       "      <th>445</th>\n",
       "      <td>1</td>\n",
       "      <td>MP*1</td>\n",
       "      <td>False</td>\n",
       "      <td>False</td>\n",
       "      <td></td>\n",
       "      <td>M</td>\n",
       "      <td></td>\n",
       "      <td>{}</td>\n",
       "    </tr>\n",
       "    <tr>\n",
       "      <th>15</th>\n",
       "      <td>1</td>\n",
       "      <td>PC</td>\n",
       "      <td>False</td>\n",
       "      <td>False</td>\n",
       "      <td></td>\n",
       "      <td>M</td>\n",
       "      <td></td>\n",
       "      <td>{}</td>\n",
       "    </tr>\n",
       "    <tr>\n",
       "      <th>46</th>\n",
       "      <td>1</td>\n",
       "      <td>2BIO2</td>\n",
       "      <td>False</td>\n",
       "      <td>True</td>\n",
       "      <td></td>\n",
       "      <td>F</td>\n",
       "      <td>[196, 257, 268]</td>\n",
       "      <td>{}</td>\n",
       "    </tr>\n",
       "    <tr>\n",
       "      <th>70</th>\n",
       "      <td>1</td>\n",
       "      <td>2BIO3</td>\n",
       "      <td>True</td>\n",
       "      <td>True</td>\n",
       "      <td>[119, 202, 545, 649, 425, 653, 122, 275, 132, ...</td>\n",
       "      <td>F</td>\n",
       "      <td>[132, 240, 425, 447]</td>\n",
       "      <td>{}</td>\n",
       "    </tr>\n",
       "    <tr>\n",
       "      <th>434</th>\n",
       "      <td>1</td>\n",
       "      <td>PSI*</td>\n",
       "      <td>False</td>\n",
       "      <td>False</td>\n",
       "      <td></td>\n",
       "      <td>F</td>\n",
       "      <td></td>\n",
       "      <td>{}</td>\n",
       "    </tr>\n",
       "  </tbody>\n",
       "</table>\n",
       "<p>317 rows × 8 columns</p>\n",
       "</div>"
      ],
      "text/plain": [
       "     weight  class  has_facebook  has_compiled_questionnaire   \n",
       "uid                                                            \n",
       "640       1     MP          True                       False  \\\n",
       "939       1  2BIO3          True                       False   \n",
       "258       1    PC*         False                       False   \n",
       "45        1     PC         False                        True   \n",
       "453       1     PC         False                       False   \n",
       "..      ...    ...           ...                         ...   \n",
       "445       1   MP*1         False                       False   \n",
       "15        1     PC         False                       False   \n",
       "46        1  2BIO2         False                        True   \n",
       "70        1  2BIO3          True                        True   \n",
       "434       1   PSI*         False                       False   \n",
       "\n",
       "                                      facebook_friends sex   \n",
       "uid                                                          \n",
       "640                                    [151, 159, 454]   M  \\\n",
       "939  [1, 55, 101, 106, 117, 119, 122, 132, 156, 170...   M   \n",
       "258                                                      F   \n",
       "45                                                       F   \n",
       "453                                                      M   \n",
       "..                                                 ...  ..   \n",
       "445                                                      M   \n",
       "15                                                       M   \n",
       "46                                                       F   \n",
       "70   [119, 202, 545, 649, 425, 653, 122, 275, 132, ...   F   \n",
       "434                                                      F   \n",
       "\n",
       "             questionnaire_friends misc_properties  \n",
       "uid                                                 \n",
       "640                                             {}  \n",
       "939                                             {}  \n",
       "258                                             {}  \n",
       "45   [79, 335, 496, 601, 674, 765]              {}  \n",
       "453                                             {}  \n",
       "..                             ...             ...  \n",
       "445                                             {}  \n",
       "15                                              {}  \n",
       "46                 [196, 257, 268]              {}  \n",
       "70            [132, 240, 425, 447]              {}  \n",
       "434                                             {}  \n",
       "\n",
       "[317 rows x 8 columns]"
      ]
     },
     "execution_count": 39,
     "metadata": {},
     "output_type": "execute_result"
    }
   ],
   "source": [
    "hshyp.nodes.dataframe"
   ]
  },
  {
   "cell_type": "code",
   "execution_count": 40,
   "id": "0dc10eba-82ab-4eb9-b776-5a1b390a96d5",
   "metadata": {
    "execution": {
     "iopub.execute_input": "2024-08-13T20:51:02.599754Z",
     "iopub.status.busy": "2024-08-13T20:51:02.598708Z",
     "iopub.status.idle": "2024-08-13T20:51:02.610558Z",
     "shell.execute_reply": "2024-08-13T20:51:02.609841Z",
     "shell.execute_reply.started": "2024-08-13T20:51:02.599720Z"
    }
   },
   "outputs": [
    {
     "data": {
      "text/plain": [
       "{'nrows': 317,\n",
       " 'ncols': 319,\n",
       " 'aspect ratio': 0.9937304075235109,\n",
       " 'ncells': 5589,\n",
       " 'density': 0.05526932547491668}"
      ]
     },
     "execution_count": 40,
     "metadata": {},
     "output_type": "execute_result"
    }
   ],
   "source": [
    "hnx.info_dict(hshyp)"
   ]
  },
  {
   "cell_type": "code",
   "execution_count": 41,
   "id": "594468de-158a-4ee3-bf8b-f97309841eea",
   "metadata": {
    "execution": {
     "iopub.execute_input": "2024-08-13T20:51:03.096870Z",
     "iopub.status.busy": "2024-08-13T20:51:03.096344Z",
     "iopub.status.idle": "2024-08-13T20:51:03.142466Z",
     "shell.execute_reply": "2024-08-13T20:51:03.142056Z",
     "shell.execute_reply.started": "2024-08-13T20:51:03.096842Z"
    }
   },
   "outputs": [],
   "source": [
    "# %%timeit #18.1 ms ± 117 µs per loop (mean ± std. dev. of 7 runs, 100 loops each)\n",
    "hshif = to_hif(hshyp)"
   ]
  },
  {
   "cell_type": "code",
   "execution_count": 47,
   "id": "bd499d47-5e2b-4dc3-89f6-333ea03f374b",
   "metadata": {
    "execution": {
     "iopub.execute_input": "2024-08-13T20:54:05.022629Z",
     "iopub.status.busy": "2024-08-13T20:54:05.021455Z",
     "iopub.status.idle": "2024-08-13T20:54:05.043291Z",
     "shell.execute_reply": "2024-08-13T20:54:05.042654Z",
     "shell.execute_reply.started": "2024-08-13T20:54:05.022578Z"
    },
    "scrolled": true
   },
   "outputs": [],
   "source": [
    "try:\n",
    "    validator(hshif);\n",
    "except Exception as e:\n",
    "    print(e)"
   ]
  },
  {
   "cell_type": "code",
   "execution_count": 43,
   "id": "170322d2-28b8-4a8d-8b41-f2024ef5c74c",
   "metadata": {
    "execution": {
     "iopub.execute_input": "2024-08-13T20:51:03.854983Z",
     "iopub.status.busy": "2024-08-13T20:51:03.854363Z",
     "iopub.status.idle": "2024-08-13T20:51:03.933551Z",
     "shell.execute_reply": "2024-08-13T20:51:03.933264Z",
     "shell.execute_reply.started": "2024-08-13T20:51:03.854954Z"
    }
   },
   "outputs": [],
   "source": [
    "# %%timeit #26.2 ms ± 516 µs per loop (mean ± std. dev. of 7 runs, 10 loops each)\n",
    "newhshyp = from_hif(hshif)"
   ]
  },
  {
   "cell_type": "code",
   "execution_count": 44,
   "id": "bf78f350-9442-4cc9-9c23-2046c5d77482",
   "metadata": {
    "execution": {
     "iopub.execute_input": "2024-08-13T20:51:04.148062Z",
     "iopub.status.busy": "2024-08-13T20:51:04.147656Z",
     "iopub.status.idle": "2024-08-13T20:51:04.158236Z",
     "shell.execute_reply": "2024-08-13T20:51:04.156758Z",
     "shell.execute_reply.started": "2024-08-13T20:51:04.148037Z"
    }
   },
   "outputs": [
    {
     "data": {
      "text/plain": [
       "{'nrows': 317,\n",
       " 'ncols': 319,\n",
       " 'aspect ratio': 0.9937304075235109,\n",
       " 'ncells': 5589,\n",
       " 'density': 0.05526932547491668}"
      ]
     },
     "execution_count": 44,
     "metadata": {},
     "output_type": "execute_result"
    }
   ],
   "source": [
    "hnx.info_dict(newhshyp)"
   ]
  },
  {
   "cell_type": "code",
   "execution_count": 45,
   "id": "b0ca895f-32ca-4a5f-988c-384024d3faf3",
   "metadata": {
    "execution": {
     "iopub.execute_input": "2024-08-13T20:51:04.539953Z",
     "iopub.status.busy": "2024-08-13T20:51:04.539455Z",
     "iopub.status.idle": "2024-08-13T20:51:04.561344Z",
     "shell.execute_reply": "2024-08-13T20:51:04.560435Z",
     "shell.execute_reply.started": "2024-08-13T20:51:04.539927Z"
    }
   },
   "outputs": [],
   "source": [
    "assert hshyp == newhshyp ## this checks that the structure is the same"
   ]
  },
  {
   "cell_type": "code",
   "execution_count": 46,
   "id": "dea72d4f-4a1d-4d41-b329-dead4e198666",
   "metadata": {
    "execution": {
     "iopub.execute_input": "2024-08-13T20:51:05.050023Z",
     "iopub.status.busy": "2024-08-13T20:51:05.049084Z",
     "iopub.status.idle": "2024-08-13T20:51:05.139538Z",
     "shell.execute_reply": "2024-08-13T20:51:05.139018Z",
     "shell.execute_reply.started": "2024-08-13T20:51:05.049967Z"
    }
   },
   "outputs": [],
   "source": [
    "json.dump(hshif,open(\"../examples/contacts_high_school_hif.json\",\"w\"),allow_nan=False)"
   ]
  },
  {
   "cell_type": "code",
   "execution_count": null,
   "id": "f09649b3-e22f-4057-9615-f796099e9c3f",
   "metadata": {},
   "outputs": [],
   "source": []
  }
 ],
 "metadata": {
  "kernelspec": {
   "display_name": "Python 3 (ipykernel)",
   "language": "python",
   "name": "python3"
  },
  "language_info": {
   "codemirror_mode": {
    "name": "ipython",
    "version": 3
   },
   "file_extension": ".py",
   "mimetype": "text/x-python",
   "name": "python",
   "nbconvert_exporter": "python",
   "pygments_lexer": "ipython3",
   "version": "3.11.8"
  }
 },
 "nbformat": 4,
 "nbformat_minor": 5
}
